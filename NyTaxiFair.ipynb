{
 "cells": [
  {
   "cell_type": "markdown",
   "metadata": {},
   "source": [
    "# NY Taxi fair Prediction using Fast.ai library"
   ]
  },
  {
   "cell_type": "code",
   "execution_count": 1,
   "metadata": {},
   "outputs": [],
   "source": [
    "%matplotlib inline\n",
    "%reload_ext autoreload\n",
    "%autoreload 2"
   ]
  },
  {
   "cell_type": "code",
   "execution_count": 67,
   "metadata": {},
   "outputs": [],
   "source": [
    "from fastai.structured import * \n",
    "from fastai.column_data import *\n",
    "\n",
    "import numpy as np\n",
    "import pandas as pd\n",
    "from datetime import datetime\n",
    "import matplotlib.pyplot as plt\n",
    "from sklearn import preprocessing\n",
    "from sklearn.model_selection import train_test_split"
   ]
  },
  {
   "cell_type": "markdown",
   "metadata": {},
   "source": [
    "###### The fulldataset has 55 million records. Train a small sample to tune the nural network and then use the full dataset for training"
   ]
  },
  {
   "cell_type": "code",
   "execution_count": 3,
   "metadata": {},
   "outputs": [],
   "source": [
    "PATH='data/taxi/'\n",
    "DATASET_SIZE = 45000\n",
    "SUBMISSION_NAME=f'{PATH}tmp/submission17.csv'"
   ]
  },
  {
   "cell_type": "code",
   "execution_count": 4,
   "metadata": {},
   "outputs": [],
   "source": [
    "datatypes = {'key': 'str', \n",
    "              'fare_amount': 'float32',\n",
    "              'pickup_datetime': 'str', \n",
    "              'pickup_longitude': 'float32',\n",
    "              'pickup_latitude': 'float32',\n",
    "              'dropoff_longitude': 'float32',\n",
    "              'dropoff_latitude': 'float32',\n",
    "              'passenger_count': 'uint8'}"
   ]
  },
  {
   "cell_type": "code",
   "execution_count": 5,
   "metadata": {},
   "outputs": [],
   "source": [
    "#df_train =  pd.read_csv(f'{PATH}train.csv', parse_dates=[\"pickup_datetime\"],nrows=DATASET_SIZE, dtype=datatypes, usecols=[0,1,2,3,4,5,6])\n",
    "df_train =  pd.read_csv(f'{PATH}train.csv')"
   ]
  },
  {
   "cell_type": "code",
   "execution_count": 6,
   "metadata": {},
   "outputs": [],
   "source": [
    "#df_test = pd.read_csv(f'{PATH}test.csv', parse_dates=[\"pickup_datetime\"], dtype=datatypes,usecols=[0,1,2,3,4,5])\n",
    "df_test = pd.read_csv(f'{PATH}test.csv', parse_dates=[\"pickup_datetime\"])"
   ]
  },
  {
   "cell_type": "code",
   "execution_count": 7,
   "metadata": {},
   "outputs": [],
   "source": [
    "from IPython.display import HTML, display"
   ]
  },
  {
   "cell_type": "code",
   "execution_count": 8,
   "metadata": {
    "scrolled": true
   },
   "outputs": [
    {
     "data": {
      "text/html": [
       "<div>\n",
       "<style scoped>\n",
       "    .dataframe tbody tr th:only-of-type {\n",
       "        vertical-align: middle;\n",
       "    }\n",
       "\n",
       "    .dataframe tbody tr th {\n",
       "        vertical-align: top;\n",
       "    }\n",
       "\n",
       "    .dataframe thead th {\n",
       "        text-align: right;\n",
       "    }\n",
       "</style>\n",
       "<table border=\"1\" class=\"dataframe\">\n",
       "  <thead>\n",
       "    <tr style=\"text-align: right;\">\n",
       "      <th></th>\n",
       "      <th>key</th>\n",
       "      <th>fare_amount</th>\n",
       "      <th>pickup_datetime</th>\n",
       "      <th>pickup_longitude</th>\n",
       "      <th>pickup_latitude</th>\n",
       "      <th>dropoff_longitude</th>\n",
       "      <th>dropoff_latitude</th>\n",
       "      <th>passenger_count</th>\n",
       "    </tr>\n",
       "  </thead>\n",
       "  <tbody>\n",
       "    <tr>\n",
       "      <th>0</th>\n",
       "      <td>2009-06-15 17:26:21.0000001</td>\n",
       "      <td>4.5</td>\n",
       "      <td>2009-06-15 17:26:21 UTC</td>\n",
       "      <td>-73.844311</td>\n",
       "      <td>40.721319</td>\n",
       "      <td>-73.841610</td>\n",
       "      <td>40.712278</td>\n",
       "      <td>1</td>\n",
       "    </tr>\n",
       "    <tr>\n",
       "      <th>1</th>\n",
       "      <td>2010-01-05 16:52:16.0000002</td>\n",
       "      <td>16.9</td>\n",
       "      <td>2010-01-05 16:52:16 UTC</td>\n",
       "      <td>-74.016048</td>\n",
       "      <td>40.711303</td>\n",
       "      <td>-73.979268</td>\n",
       "      <td>40.782004</td>\n",
       "      <td>1</td>\n",
       "    </tr>\n",
       "    <tr>\n",
       "      <th>2</th>\n",
       "      <td>2011-08-18 00:35:00.00000049</td>\n",
       "      <td>5.7</td>\n",
       "      <td>2011-08-18 00:35:00 UTC</td>\n",
       "      <td>-73.982738</td>\n",
       "      <td>40.761270</td>\n",
       "      <td>-73.991242</td>\n",
       "      <td>40.750562</td>\n",
       "      <td>2</td>\n",
       "    </tr>\n",
       "    <tr>\n",
       "      <th>3</th>\n",
       "      <td>2012-04-21 04:30:42.0000001</td>\n",
       "      <td>7.7</td>\n",
       "      <td>2012-04-21 04:30:42 UTC</td>\n",
       "      <td>-73.987130</td>\n",
       "      <td>40.733143</td>\n",
       "      <td>-73.991567</td>\n",
       "      <td>40.758092</td>\n",
       "      <td>1</td>\n",
       "    </tr>\n",
       "    <tr>\n",
       "      <th>4</th>\n",
       "      <td>2010-03-09 07:51:00.000000135</td>\n",
       "      <td>5.3</td>\n",
       "      <td>2010-03-09 07:51:00 UTC</td>\n",
       "      <td>-73.968095</td>\n",
       "      <td>40.768008</td>\n",
       "      <td>-73.956655</td>\n",
       "      <td>40.783762</td>\n",
       "      <td>1</td>\n",
       "    </tr>\n",
       "  </tbody>\n",
       "</table>\n",
       "</div>"
      ],
      "text/plain": [
       "                             key  fare_amount          pickup_datetime  \\\n",
       "0    2009-06-15 17:26:21.0000001          4.5  2009-06-15 17:26:21 UTC   \n",
       "1    2010-01-05 16:52:16.0000002         16.9  2010-01-05 16:52:16 UTC   \n",
       "2   2011-08-18 00:35:00.00000049          5.7  2011-08-18 00:35:00 UTC   \n",
       "3    2012-04-21 04:30:42.0000001          7.7  2012-04-21 04:30:42 UTC   \n",
       "4  2010-03-09 07:51:00.000000135          5.3  2010-03-09 07:51:00 UTC   \n",
       "\n",
       "   pickup_longitude  pickup_latitude  dropoff_longitude  dropoff_latitude  \\\n",
       "0        -73.844311        40.721319         -73.841610         40.712278   \n",
       "1        -74.016048        40.711303         -73.979268         40.782004   \n",
       "2        -73.982738        40.761270         -73.991242         40.750562   \n",
       "3        -73.987130        40.733143         -73.991567         40.758092   \n",
       "4        -73.968095        40.768008         -73.956655         40.783762   \n",
       "\n",
       "   passenger_count  \n",
       "0                1  \n",
       "1                1  \n",
       "2                2  \n",
       "3                1  \n",
       "4                1  "
      ]
     },
     "metadata": {},
     "output_type": "display_data"
    }
   ],
   "source": [
    "display(df_train.head())"
   ]
  },
  {
   "cell_type": "code",
   "execution_count": 9,
   "metadata": {
    "scrolled": true
   },
   "outputs": [
    {
     "data": {
      "text/plain": [
       "key                   object\n",
       "fare_amount          float64\n",
       "pickup_datetime       object\n",
       "pickup_longitude     float64\n",
       "pickup_latitude      float64\n",
       "dropoff_longitude    float64\n",
       "dropoff_latitude     float64\n",
       "passenger_count        int64\n",
       "dtype: object"
      ]
     },
     "execution_count": 9,
     "metadata": {},
     "output_type": "execute_result"
    }
   ],
   "source": [
    "df_train.dtypes"
   ]
  },
  {
   "cell_type": "code",
   "execution_count": 10,
   "metadata": {},
   "outputs": [],
   "source": [
    "#df_train.describe()"
   ]
  },
  {
   "cell_type": "markdown",
   "metadata": {},
   "source": [
    "###### Data clean, process and feature engineering "
   ]
  },
  {
   "cell_type": "code",
   "execution_count": 11,
   "metadata": {},
   "outputs": [],
   "source": [
    "def clean(df):\n",
    "    # Delimiter lats and lons to NY only\n",
    "    df=df[(-75 <= df['pickup_longitude']) & (df['pickup_longitude'] <= -73)]\n",
    "    df=df[(-75 <= df['dropoff_longitude']) & (df['dropoff_longitude'] <= -73)]\n",
    "    df=df[(39 <= df['pickup_latitude']) & (df['pickup_latitude'] <= 42)]\n",
    "    df=df[(39 <= df['dropoff_latitude']) & (df['dropoff_latitude'] <= 42)]\n",
    "    # Remove possible outliers\n",
    "    df=df[(0 < df['fare_amount']) & (df['fare_amount'] <= 250)]\n",
    "    # Remove inconsistent values\n",
    "    df=df[(df['dropoff_longitude'] != df['pickup_longitude'])]\n",
    "    df=df[(df['dropoff_latitude'] != df['pickup_latitude'])]\n",
    "    \n",
    "    return df\n",
    "\n",
    "def late_night (row):\n",
    "    if (row['hour'] <= 6) or (row['hour'] >= 20):\n",
    "        return 1\n",
    "    else:\n",
    "        return 0\n",
    "\n",
    "def night (row):\n",
    "    if ((row['hour'] <= 20) and (row['hour'] >= 16)) and (row['weekday'] < 5):\n",
    "        return 1\n",
    "    else:\n",
    "        return 0\n",
    "        \n",
    "def process(df):\n",
    "   # df['pickup_datetime'] =  pd.to_datetime(df['pickup_datetime'], format='%Y-%m-%d %H:%M:%S %Z')\n",
    "    df['pickup_datetime_dt'] = pd.to_datetime(df['pickup_datetime'])\n",
    "   # df['pickup_datetime_dt'] = df['pickup_datetime'].apply(lambda d: df.pickup_datetime.strptime(d, '%Y-%m-%d %H:%M:%S UTC'))\n",
    "    df['hour'] = df['pickup_datetime_dt'].apply(lambda x: x.hour)\n",
    "    df['weekday'] = df['pickup_datetime_dt'].apply(lambda x: x.weekday())\n",
    "    df['night'] = df.apply (lambda x: night(x), axis=1)\n",
    "    df['late_night'] = df.apply (lambda x: late_night(x), axis=1)\n",
    "        \n",
    "    return df    \n",
    "\n",
    "def add_engineered(df):\n",
    "    lat1 = df['pickup_latitude']\n",
    "    lat2 = df['dropoff_latitude']\n",
    "    lon1 = df['pickup_longitude']\n",
    "    lon2 = df['dropoff_longitude']\n",
    "    weekday = df['weekday']\n",
    "    hour = df['hour']\n",
    "    \n",
    "    latdiff = (lat1 - lat2)\n",
    "    londiff = (lon1 - lon2)\n",
    "    euclidean = (latdiff ** 2 + londiff ** 2) ** 0.5\n",
    "    manhattan = np.abs(lat2 - lat1) + np.abs(lon2 - lon1)\n",
    "    ploc = lat1 * lon1\n",
    "    dloc = lat2 * lon2\n",
    "\n",
    "    # Add new features\n",
    "    df['latdiff'] = latdiff\n",
    "    df['londiff'] = londiff\n",
    "    df['euclidean'] = euclidean\n",
    "    df['manhattan'] = manhattan\n",
    "    df['ploc'] = ploc\n",
    "    df['dloc'] = dloc    \n",
    "       \n",
    "    return df\n"
   ]
  },
  {
   "cell_type": "markdown",
   "metadata": {},
   "source": [
    "###### Below code is required for executing the python functions in parallel"
   ]
  },
  {
   "cell_type": "code",
   "execution_count": 12,
   "metadata": {},
   "outputs": [],
   "source": [
    "import numpy as np\n",
    "from multiprocessing import cpu_count\n",
    "from multiprocessing import Pool\n",
    " \n",
    "#cores = cpu_count() #Number of CPU cores on your system\n",
    "cores = 24\n",
    "partitions = cores #Define as many partitions as you want\n",
    " \n",
    "def parallelize(data, func):\n",
    "    data_split = np.array_split(data, partitions)\n",
    "    pool = Pool(cores)\n",
    "    data = pd.concat(pool.map(func, data_split))\n",
    "    pool.close()\n",
    "    pool.join()\n",
    "    return data"
   ]
  },
  {
   "cell_type": "code",
   "execution_count": 13,
   "metadata": {},
   "outputs": [],
   "source": [
    "df_train2 = parallelize(df_train, clean);"
   ]
  },
  {
   "cell_type": "code",
   "execution_count": 14,
   "metadata": {},
   "outputs": [],
   "source": [
    "df_train3 = parallelize(df_train2, process);"
   ]
  },
  {
   "cell_type": "code",
   "execution_count": 15,
   "metadata": {},
   "outputs": [],
   "source": [
    "df_train4 = parallelize(df_train3, add_engineered);"
   ]
  },
  {
   "cell_type": "code",
   "execution_count": 16,
   "metadata": {},
   "outputs": [],
   "source": [
    "df_test2 = process(df_test)"
   ]
  },
  {
   "cell_type": "code",
   "execution_count": 17,
   "metadata": {},
   "outputs": [],
   "source": [
    "df_test3 = add_engineered(df_test2)"
   ]
  },
  {
   "cell_type": "code",
   "execution_count": 18,
   "metadata": {},
   "outputs": [],
   "source": [
    "train = df_train4\n",
    "test = df_test3"
   ]
  },
  {
   "cell_type": "code",
   "execution_count": 19,
   "metadata": {},
   "outputs": [],
   "source": [
    "add_datepart(train, \"pickup_datetime_dt\", drop=False)\n",
    "add_datepart(test, \"pickup_datetime_dt\", drop=False)"
   ]
  },
  {
   "cell_type": "code",
   "execution_count": 20,
   "metadata": {},
   "outputs": [
    {
     "data": {
      "text/html": [
       "<div>\n",
       "<style scoped>\n",
       "    .dataframe tbody tr th:only-of-type {\n",
       "        vertical-align: middle;\n",
       "    }\n",
       "\n",
       "    .dataframe tbody tr th {\n",
       "        vertical-align: top;\n",
       "    }\n",
       "\n",
       "    .dataframe thead th {\n",
       "        text-align: right;\n",
       "    }\n",
       "</style>\n",
       "<table border=\"1\" class=\"dataframe\">\n",
       "  <thead>\n",
       "    <tr style=\"text-align: right;\">\n",
       "      <th></th>\n",
       "      <th>key</th>\n",
       "      <th>fare_amount</th>\n",
       "      <th>pickup_datetime</th>\n",
       "      <th>pickup_longitude</th>\n",
       "      <th>pickup_latitude</th>\n",
       "      <th>dropoff_longitude</th>\n",
       "      <th>dropoff_latitude</th>\n",
       "      <th>passenger_count</th>\n",
       "      <th>pickup_datetime_dt</th>\n",
       "      <th>hour</th>\n",
       "      <th>...</th>\n",
       "      <th>pickup_datetime_dtDay</th>\n",
       "      <th>pickup_datetime_dtDayofweek</th>\n",
       "      <th>pickup_datetime_dtDayofyear</th>\n",
       "      <th>pickup_datetime_dtIs_month_end</th>\n",
       "      <th>pickup_datetime_dtIs_month_start</th>\n",
       "      <th>pickup_datetime_dtIs_quarter_end</th>\n",
       "      <th>pickup_datetime_dtIs_quarter_start</th>\n",
       "      <th>pickup_datetime_dtIs_year_end</th>\n",
       "      <th>pickup_datetime_dtIs_year_start</th>\n",
       "      <th>pickup_datetime_dtElapsed</th>\n",
       "    </tr>\n",
       "  </thead>\n",
       "  <tbody>\n",
       "    <tr>\n",
       "      <th>0</th>\n",
       "      <td>2009-06-15 17:26:21.0000001</td>\n",
       "      <td>4.5</td>\n",
       "      <td>2009-06-15 17:26:21 UTC</td>\n",
       "      <td>-73.844311</td>\n",
       "      <td>40.721319</td>\n",
       "      <td>-73.841610</td>\n",
       "      <td>40.712278</td>\n",
       "      <td>1</td>\n",
       "      <td>2009-06-15 17:26:21</td>\n",
       "      <td>17</td>\n",
       "      <td>...</td>\n",
       "      <td>15</td>\n",
       "      <td>0</td>\n",
       "      <td>166</td>\n",
       "      <td>False</td>\n",
       "      <td>False</td>\n",
       "      <td>False</td>\n",
       "      <td>False</td>\n",
       "      <td>False</td>\n",
       "      <td>False</td>\n",
       "      <td>1245086781</td>\n",
       "    </tr>\n",
       "    <tr>\n",
       "      <th>1</th>\n",
       "      <td>2010-01-05 16:52:16.0000002</td>\n",
       "      <td>16.9</td>\n",
       "      <td>2010-01-05 16:52:16 UTC</td>\n",
       "      <td>-74.016048</td>\n",
       "      <td>40.711303</td>\n",
       "      <td>-73.979268</td>\n",
       "      <td>40.782004</td>\n",
       "      <td>1</td>\n",
       "      <td>2010-01-05 16:52:16</td>\n",
       "      <td>16</td>\n",
       "      <td>...</td>\n",
       "      <td>5</td>\n",
       "      <td>1</td>\n",
       "      <td>5</td>\n",
       "      <td>False</td>\n",
       "      <td>False</td>\n",
       "      <td>False</td>\n",
       "      <td>False</td>\n",
       "      <td>False</td>\n",
       "      <td>False</td>\n",
       "      <td>1262710336</td>\n",
       "    </tr>\n",
       "    <tr>\n",
       "      <th>2</th>\n",
       "      <td>2011-08-18 00:35:00.00000049</td>\n",
       "      <td>5.7</td>\n",
       "      <td>2011-08-18 00:35:00 UTC</td>\n",
       "      <td>-73.982738</td>\n",
       "      <td>40.761270</td>\n",
       "      <td>-73.991242</td>\n",
       "      <td>40.750562</td>\n",
       "      <td>2</td>\n",
       "      <td>2011-08-18 00:35:00</td>\n",
       "      <td>0</td>\n",
       "      <td>...</td>\n",
       "      <td>18</td>\n",
       "      <td>3</td>\n",
       "      <td>230</td>\n",
       "      <td>False</td>\n",
       "      <td>False</td>\n",
       "      <td>False</td>\n",
       "      <td>False</td>\n",
       "      <td>False</td>\n",
       "      <td>False</td>\n",
       "      <td>1313627700</td>\n",
       "    </tr>\n",
       "    <tr>\n",
       "      <th>3</th>\n",
       "      <td>2012-04-21 04:30:42.0000001</td>\n",
       "      <td>7.7</td>\n",
       "      <td>2012-04-21 04:30:42 UTC</td>\n",
       "      <td>-73.987130</td>\n",
       "      <td>40.733143</td>\n",
       "      <td>-73.991567</td>\n",
       "      <td>40.758092</td>\n",
       "      <td>1</td>\n",
       "      <td>2012-04-21 04:30:42</td>\n",
       "      <td>4</td>\n",
       "      <td>...</td>\n",
       "      <td>21</td>\n",
       "      <td>5</td>\n",
       "      <td>112</td>\n",
       "      <td>False</td>\n",
       "      <td>False</td>\n",
       "      <td>False</td>\n",
       "      <td>False</td>\n",
       "      <td>False</td>\n",
       "      <td>False</td>\n",
       "      <td>1334982642</td>\n",
       "    </tr>\n",
       "    <tr>\n",
       "      <th>4</th>\n",
       "      <td>2010-03-09 07:51:00.000000135</td>\n",
       "      <td>5.3</td>\n",
       "      <td>2010-03-09 07:51:00 UTC</td>\n",
       "      <td>-73.968095</td>\n",
       "      <td>40.768008</td>\n",
       "      <td>-73.956655</td>\n",
       "      <td>40.783762</td>\n",
       "      <td>1</td>\n",
       "      <td>2010-03-09 07:51:00</td>\n",
       "      <td>7</td>\n",
       "      <td>...</td>\n",
       "      <td>9</td>\n",
       "      <td>1</td>\n",
       "      <td>68</td>\n",
       "      <td>False</td>\n",
       "      <td>False</td>\n",
       "      <td>False</td>\n",
       "      <td>False</td>\n",
       "      <td>False</td>\n",
       "      <td>False</td>\n",
       "      <td>1268121060</td>\n",
       "    </tr>\n",
       "  </tbody>\n",
       "</table>\n",
       "<p>5 rows × 32 columns</p>\n",
       "</div>"
      ],
      "text/plain": [
       "                             key  fare_amount          pickup_datetime  \\\n",
       "0    2009-06-15 17:26:21.0000001          4.5  2009-06-15 17:26:21 UTC   \n",
       "1    2010-01-05 16:52:16.0000002         16.9  2010-01-05 16:52:16 UTC   \n",
       "2   2011-08-18 00:35:00.00000049          5.7  2011-08-18 00:35:00 UTC   \n",
       "3    2012-04-21 04:30:42.0000001          7.7  2012-04-21 04:30:42 UTC   \n",
       "4  2010-03-09 07:51:00.000000135          5.3  2010-03-09 07:51:00 UTC   \n",
       "\n",
       "   pickup_longitude  pickup_latitude  dropoff_longitude  dropoff_latitude  \\\n",
       "0        -73.844311        40.721319         -73.841610         40.712278   \n",
       "1        -74.016048        40.711303         -73.979268         40.782004   \n",
       "2        -73.982738        40.761270         -73.991242         40.750562   \n",
       "3        -73.987130        40.733143         -73.991567         40.758092   \n",
       "4        -73.968095        40.768008         -73.956655         40.783762   \n",
       "\n",
       "   passenger_count  pickup_datetime_dt  hour            ...              \\\n",
       "0                1 2009-06-15 17:26:21    17            ...               \n",
       "1                1 2010-01-05 16:52:16    16            ...               \n",
       "2                2 2011-08-18 00:35:00     0            ...               \n",
       "3                1 2012-04-21 04:30:42     4            ...               \n",
       "4                1 2010-03-09 07:51:00     7            ...               \n",
       "\n",
       "   pickup_datetime_dtDay  pickup_datetime_dtDayofweek  \\\n",
       "0                     15                            0   \n",
       "1                      5                            1   \n",
       "2                     18                            3   \n",
       "3                     21                            5   \n",
       "4                      9                            1   \n",
       "\n",
       "   pickup_datetime_dtDayofyear  pickup_datetime_dtIs_month_end  \\\n",
       "0                          166                           False   \n",
       "1                            5                           False   \n",
       "2                          230                           False   \n",
       "3                          112                           False   \n",
       "4                           68                           False   \n",
       "\n",
       "   pickup_datetime_dtIs_month_start  pickup_datetime_dtIs_quarter_end  \\\n",
       "0                             False                             False   \n",
       "1                             False                             False   \n",
       "2                             False                             False   \n",
       "3                             False                             False   \n",
       "4                             False                             False   \n",
       "\n",
       "   pickup_datetime_dtIs_quarter_start  pickup_datetime_dtIs_year_end  \\\n",
       "0                               False                          False   \n",
       "1                               False                          False   \n",
       "2                               False                          False   \n",
       "3                               False                          False   \n",
       "4                               False                          False   \n",
       "\n",
       "   pickup_datetime_dtIs_year_start  pickup_datetime_dtElapsed  \n",
       "0                            False                 1245086781  \n",
       "1                            False                 1262710336  \n",
       "2                            False                 1313627700  \n",
       "3                            False                 1334982642  \n",
       "4                            False                 1268121060  \n",
       "\n",
       "[5 rows x 32 columns]"
      ]
     },
     "metadata": {},
     "output_type": "display_data"
    }
   ],
   "source": [
    "display(df_train4.head())"
   ]
  },
  {
   "cell_type": "code",
   "execution_count": 21,
   "metadata": {
    "scrolled": true
   },
   "outputs": [
    {
     "data": {
      "text/plain": [
       "key                                           object\n",
       "fare_amount                                  float64\n",
       "pickup_datetime                               object\n",
       "pickup_longitude                             float64\n",
       "pickup_latitude                              float64\n",
       "dropoff_longitude                            float64\n",
       "dropoff_latitude                             float64\n",
       "passenger_count                                int64\n",
       "pickup_datetime_dt                    datetime64[ns]\n",
       "hour                                           int64\n",
       "weekday                                        int64\n",
       "night                                          int64\n",
       "late_night                                     int64\n",
       "latdiff                                      float64\n",
       "londiff                                      float64\n",
       "euclidean                                    float64\n",
       "manhattan                                    float64\n",
       "ploc                                         float64\n",
       "dloc                                         float64\n",
       "pickup_datetime_dtYear                         int64\n",
       "pickup_datetime_dtMonth                        int64\n",
       "pickup_datetime_dtWeek                         int64\n",
       "pickup_datetime_dtDay                          int64\n",
       "pickup_datetime_dtDayofweek                    int64\n",
       "pickup_datetime_dtDayofyear                    int64\n",
       "pickup_datetime_dtIs_month_end                  bool\n",
       "pickup_datetime_dtIs_month_start                bool\n",
       "pickup_datetime_dtIs_quarter_end                bool\n",
       "pickup_datetime_dtIs_quarter_start              bool\n",
       "pickup_datetime_dtIs_year_end                   bool\n",
       "pickup_datetime_dtIs_year_start                 bool\n",
       "pickup_datetime_dtElapsed                      int64\n",
       "dtype: object"
      ]
     },
     "execution_count": 21,
     "metadata": {},
     "output_type": "execute_result"
    }
   ],
   "source": [
    "train.dtypes"
   ]
  },
  {
   "cell_type": "code",
   "execution_count": 22,
   "metadata": {},
   "outputs": [],
   "source": [
    "train = train.drop(['pickup_datetime_dt','pickup_datetime_dtElapsed','pickup_datetime'],axis=1)\n",
    "test = test.drop(['pickup_datetime_dt','pickup_datetime_dtElapsed','pickup_datetime'],axis=1)"
   ]
  },
  {
   "cell_type": "code",
   "execution_count": 23,
   "metadata": {},
   "outputs": [
    {
     "data": {
      "text/html": [
       "<div>\n",
       "<style scoped>\n",
       "    .dataframe tbody tr th:only-of-type {\n",
       "        vertical-align: middle;\n",
       "    }\n",
       "\n",
       "    .dataframe tbody tr th {\n",
       "        vertical-align: top;\n",
       "    }\n",
       "\n",
       "    .dataframe thead th {\n",
       "        text-align: right;\n",
       "    }\n",
       "</style>\n",
       "<table border=\"1\" class=\"dataframe\">\n",
       "  <thead>\n",
       "    <tr style=\"text-align: right;\">\n",
       "      <th></th>\n",
       "      <th>key</th>\n",
       "      <th>fare_amount</th>\n",
       "      <th>pickup_longitude</th>\n",
       "      <th>pickup_latitude</th>\n",
       "      <th>dropoff_longitude</th>\n",
       "      <th>dropoff_latitude</th>\n",
       "      <th>passenger_count</th>\n",
       "      <th>hour</th>\n",
       "      <th>weekday</th>\n",
       "      <th>night</th>\n",
       "      <th>...</th>\n",
       "      <th>pickup_datetime_dtWeek</th>\n",
       "      <th>pickup_datetime_dtDay</th>\n",
       "      <th>pickup_datetime_dtDayofweek</th>\n",
       "      <th>pickup_datetime_dtDayofyear</th>\n",
       "      <th>pickup_datetime_dtIs_month_end</th>\n",
       "      <th>pickup_datetime_dtIs_month_start</th>\n",
       "      <th>pickup_datetime_dtIs_quarter_end</th>\n",
       "      <th>pickup_datetime_dtIs_quarter_start</th>\n",
       "      <th>pickup_datetime_dtIs_year_end</th>\n",
       "      <th>pickup_datetime_dtIs_year_start</th>\n",
       "    </tr>\n",
       "  </thead>\n",
       "  <tbody>\n",
       "    <tr>\n",
       "      <th>0</th>\n",
       "      <td>2009-06-15 17:26:21.0000001</td>\n",
       "      <td>4.5</td>\n",
       "      <td>-73.844311</td>\n",
       "      <td>40.721319</td>\n",
       "      <td>-73.841610</td>\n",
       "      <td>40.712278</td>\n",
       "      <td>1</td>\n",
       "      <td>17</td>\n",
       "      <td>0</td>\n",
       "      <td>1</td>\n",
       "      <td>...</td>\n",
       "      <td>25</td>\n",
       "      <td>15</td>\n",
       "      <td>0</td>\n",
       "      <td>166</td>\n",
       "      <td>False</td>\n",
       "      <td>False</td>\n",
       "      <td>False</td>\n",
       "      <td>False</td>\n",
       "      <td>False</td>\n",
       "      <td>False</td>\n",
       "    </tr>\n",
       "    <tr>\n",
       "      <th>1</th>\n",
       "      <td>2010-01-05 16:52:16.0000002</td>\n",
       "      <td>16.9</td>\n",
       "      <td>-74.016048</td>\n",
       "      <td>40.711303</td>\n",
       "      <td>-73.979268</td>\n",
       "      <td>40.782004</td>\n",
       "      <td>1</td>\n",
       "      <td>16</td>\n",
       "      <td>1</td>\n",
       "      <td>1</td>\n",
       "      <td>...</td>\n",
       "      <td>1</td>\n",
       "      <td>5</td>\n",
       "      <td>1</td>\n",
       "      <td>5</td>\n",
       "      <td>False</td>\n",
       "      <td>False</td>\n",
       "      <td>False</td>\n",
       "      <td>False</td>\n",
       "      <td>False</td>\n",
       "      <td>False</td>\n",
       "    </tr>\n",
       "    <tr>\n",
       "      <th>2</th>\n",
       "      <td>2011-08-18 00:35:00.00000049</td>\n",
       "      <td>5.7</td>\n",
       "      <td>-73.982738</td>\n",
       "      <td>40.761270</td>\n",
       "      <td>-73.991242</td>\n",
       "      <td>40.750562</td>\n",
       "      <td>2</td>\n",
       "      <td>0</td>\n",
       "      <td>3</td>\n",
       "      <td>0</td>\n",
       "      <td>...</td>\n",
       "      <td>33</td>\n",
       "      <td>18</td>\n",
       "      <td>3</td>\n",
       "      <td>230</td>\n",
       "      <td>False</td>\n",
       "      <td>False</td>\n",
       "      <td>False</td>\n",
       "      <td>False</td>\n",
       "      <td>False</td>\n",
       "      <td>False</td>\n",
       "    </tr>\n",
       "    <tr>\n",
       "      <th>3</th>\n",
       "      <td>2012-04-21 04:30:42.0000001</td>\n",
       "      <td>7.7</td>\n",
       "      <td>-73.987130</td>\n",
       "      <td>40.733143</td>\n",
       "      <td>-73.991567</td>\n",
       "      <td>40.758092</td>\n",
       "      <td>1</td>\n",
       "      <td>4</td>\n",
       "      <td>5</td>\n",
       "      <td>0</td>\n",
       "      <td>...</td>\n",
       "      <td>16</td>\n",
       "      <td>21</td>\n",
       "      <td>5</td>\n",
       "      <td>112</td>\n",
       "      <td>False</td>\n",
       "      <td>False</td>\n",
       "      <td>False</td>\n",
       "      <td>False</td>\n",
       "      <td>False</td>\n",
       "      <td>False</td>\n",
       "    </tr>\n",
       "    <tr>\n",
       "      <th>4</th>\n",
       "      <td>2010-03-09 07:51:00.000000135</td>\n",
       "      <td>5.3</td>\n",
       "      <td>-73.968095</td>\n",
       "      <td>40.768008</td>\n",
       "      <td>-73.956655</td>\n",
       "      <td>40.783762</td>\n",
       "      <td>1</td>\n",
       "      <td>7</td>\n",
       "      <td>1</td>\n",
       "      <td>0</td>\n",
       "      <td>...</td>\n",
       "      <td>10</td>\n",
       "      <td>9</td>\n",
       "      <td>1</td>\n",
       "      <td>68</td>\n",
       "      <td>False</td>\n",
       "      <td>False</td>\n",
       "      <td>False</td>\n",
       "      <td>False</td>\n",
       "      <td>False</td>\n",
       "      <td>False</td>\n",
       "    </tr>\n",
       "  </tbody>\n",
       "</table>\n",
       "<p>5 rows × 29 columns</p>\n",
       "</div>"
      ],
      "text/plain": [
       "                             key  fare_amount  pickup_longitude  \\\n",
       "0    2009-06-15 17:26:21.0000001          4.5        -73.844311   \n",
       "1    2010-01-05 16:52:16.0000002         16.9        -74.016048   \n",
       "2   2011-08-18 00:35:00.00000049          5.7        -73.982738   \n",
       "3    2012-04-21 04:30:42.0000001          7.7        -73.987130   \n",
       "4  2010-03-09 07:51:00.000000135          5.3        -73.968095   \n",
       "\n",
       "   pickup_latitude  dropoff_longitude  dropoff_latitude  passenger_count  \\\n",
       "0        40.721319         -73.841610         40.712278                1   \n",
       "1        40.711303         -73.979268         40.782004                1   \n",
       "2        40.761270         -73.991242         40.750562                2   \n",
       "3        40.733143         -73.991567         40.758092                1   \n",
       "4        40.768008         -73.956655         40.783762                1   \n",
       "\n",
       "   hour  weekday  night               ...                 \\\n",
       "0    17        0      1               ...                  \n",
       "1    16        1      1               ...                  \n",
       "2     0        3      0               ...                  \n",
       "3     4        5      0               ...                  \n",
       "4     7        1      0               ...                  \n",
       "\n",
       "   pickup_datetime_dtWeek  pickup_datetime_dtDay  pickup_datetime_dtDayofweek  \\\n",
       "0                      25                     15                            0   \n",
       "1                       1                      5                            1   \n",
       "2                      33                     18                            3   \n",
       "3                      16                     21                            5   \n",
       "4                      10                      9                            1   \n",
       "\n",
       "   pickup_datetime_dtDayofyear  pickup_datetime_dtIs_month_end  \\\n",
       "0                          166                           False   \n",
       "1                            5                           False   \n",
       "2                          230                           False   \n",
       "3                          112                           False   \n",
       "4                           68                           False   \n",
       "\n",
       "   pickup_datetime_dtIs_month_start  pickup_datetime_dtIs_quarter_end  \\\n",
       "0                             False                             False   \n",
       "1                             False                             False   \n",
       "2                             False                             False   \n",
       "3                             False                             False   \n",
       "4                             False                             False   \n",
       "\n",
       "   pickup_datetime_dtIs_quarter_start  pickup_datetime_dtIs_year_end  \\\n",
       "0                               False                          False   \n",
       "1                               False                          False   \n",
       "2                               False                          False   \n",
       "3                               False                          False   \n",
       "4                               False                          False   \n",
       "\n",
       "   pickup_datetime_dtIs_year_start  \n",
       "0                            False  \n",
       "1                            False  \n",
       "2                            False  \n",
       "3                            False  \n",
       "4                            False  \n",
       "\n",
       "[5 rows x 29 columns]"
      ]
     },
     "metadata": {},
     "output_type": "display_data"
    }
   ],
   "source": [
    "display(train.head())"
   ]
  },
  {
   "cell_type": "code",
   "execution_count": 24,
   "metadata": {},
   "outputs": [
    {
     "data": {
      "text/html": [
       "<div>\n",
       "<style scoped>\n",
       "    .dataframe tbody tr th:only-of-type {\n",
       "        vertical-align: middle;\n",
       "    }\n",
       "\n",
       "    .dataframe tbody tr th {\n",
       "        vertical-align: top;\n",
       "    }\n",
       "\n",
       "    .dataframe thead th {\n",
       "        text-align: right;\n",
       "    }\n",
       "</style>\n",
       "<table border=\"1\" class=\"dataframe\">\n",
       "  <thead>\n",
       "    <tr style=\"text-align: right;\">\n",
       "      <th></th>\n",
       "      <th>key</th>\n",
       "      <th>pickup_longitude</th>\n",
       "      <th>pickup_latitude</th>\n",
       "      <th>dropoff_longitude</th>\n",
       "      <th>dropoff_latitude</th>\n",
       "      <th>passenger_count</th>\n",
       "      <th>hour</th>\n",
       "      <th>weekday</th>\n",
       "      <th>night</th>\n",
       "      <th>late_night</th>\n",
       "      <th>...</th>\n",
       "      <th>pickup_datetime_dtWeek</th>\n",
       "      <th>pickup_datetime_dtDay</th>\n",
       "      <th>pickup_datetime_dtDayofweek</th>\n",
       "      <th>pickup_datetime_dtDayofyear</th>\n",
       "      <th>pickup_datetime_dtIs_month_end</th>\n",
       "      <th>pickup_datetime_dtIs_month_start</th>\n",
       "      <th>pickup_datetime_dtIs_quarter_end</th>\n",
       "      <th>pickup_datetime_dtIs_quarter_start</th>\n",
       "      <th>pickup_datetime_dtIs_year_end</th>\n",
       "      <th>pickup_datetime_dtIs_year_start</th>\n",
       "    </tr>\n",
       "  </thead>\n",
       "  <tbody>\n",
       "    <tr>\n",
       "      <th>0</th>\n",
       "      <td>2015-01-27 13:08:24.0000002</td>\n",
       "      <td>-73.973320</td>\n",
       "      <td>40.763805</td>\n",
       "      <td>-73.981430</td>\n",
       "      <td>40.743835</td>\n",
       "      <td>1</td>\n",
       "      <td>13</td>\n",
       "      <td>1</td>\n",
       "      <td>0</td>\n",
       "      <td>0</td>\n",
       "      <td>...</td>\n",
       "      <td>5</td>\n",
       "      <td>27</td>\n",
       "      <td>1</td>\n",
       "      <td>27</td>\n",
       "      <td>False</td>\n",
       "      <td>False</td>\n",
       "      <td>False</td>\n",
       "      <td>False</td>\n",
       "      <td>False</td>\n",
       "      <td>False</td>\n",
       "    </tr>\n",
       "    <tr>\n",
       "      <th>1</th>\n",
       "      <td>2015-01-27 13:08:24.0000003</td>\n",
       "      <td>-73.986862</td>\n",
       "      <td>40.719383</td>\n",
       "      <td>-73.998886</td>\n",
       "      <td>40.739201</td>\n",
       "      <td>1</td>\n",
       "      <td>13</td>\n",
       "      <td>1</td>\n",
       "      <td>0</td>\n",
       "      <td>0</td>\n",
       "      <td>...</td>\n",
       "      <td>5</td>\n",
       "      <td>27</td>\n",
       "      <td>1</td>\n",
       "      <td>27</td>\n",
       "      <td>False</td>\n",
       "      <td>False</td>\n",
       "      <td>False</td>\n",
       "      <td>False</td>\n",
       "      <td>False</td>\n",
       "      <td>False</td>\n",
       "    </tr>\n",
       "    <tr>\n",
       "      <th>2</th>\n",
       "      <td>2011-10-08 11:53:44.0000002</td>\n",
       "      <td>-73.982524</td>\n",
       "      <td>40.751260</td>\n",
       "      <td>-73.979654</td>\n",
       "      <td>40.746139</td>\n",
       "      <td>1</td>\n",
       "      <td>11</td>\n",
       "      <td>5</td>\n",
       "      <td>0</td>\n",
       "      <td>0</td>\n",
       "      <td>...</td>\n",
       "      <td>40</td>\n",
       "      <td>8</td>\n",
       "      <td>5</td>\n",
       "      <td>281</td>\n",
       "      <td>False</td>\n",
       "      <td>False</td>\n",
       "      <td>False</td>\n",
       "      <td>False</td>\n",
       "      <td>False</td>\n",
       "      <td>False</td>\n",
       "    </tr>\n",
       "    <tr>\n",
       "      <th>3</th>\n",
       "      <td>2012-12-01 21:12:12.0000002</td>\n",
       "      <td>-73.981160</td>\n",
       "      <td>40.767807</td>\n",
       "      <td>-73.990448</td>\n",
       "      <td>40.751635</td>\n",
       "      <td>1</td>\n",
       "      <td>21</td>\n",
       "      <td>5</td>\n",
       "      <td>0</td>\n",
       "      <td>1</td>\n",
       "      <td>...</td>\n",
       "      <td>48</td>\n",
       "      <td>1</td>\n",
       "      <td>5</td>\n",
       "      <td>336</td>\n",
       "      <td>False</td>\n",
       "      <td>True</td>\n",
       "      <td>False</td>\n",
       "      <td>False</td>\n",
       "      <td>False</td>\n",
       "      <td>False</td>\n",
       "    </tr>\n",
       "    <tr>\n",
       "      <th>4</th>\n",
       "      <td>2012-12-01 21:12:12.0000003</td>\n",
       "      <td>-73.966046</td>\n",
       "      <td>40.789775</td>\n",
       "      <td>-73.988565</td>\n",
       "      <td>40.744427</td>\n",
       "      <td>1</td>\n",
       "      <td>21</td>\n",
       "      <td>5</td>\n",
       "      <td>0</td>\n",
       "      <td>1</td>\n",
       "      <td>...</td>\n",
       "      <td>48</td>\n",
       "      <td>1</td>\n",
       "      <td>5</td>\n",
       "      <td>336</td>\n",
       "      <td>False</td>\n",
       "      <td>True</td>\n",
       "      <td>False</td>\n",
       "      <td>False</td>\n",
       "      <td>False</td>\n",
       "      <td>False</td>\n",
       "    </tr>\n",
       "  </tbody>\n",
       "</table>\n",
       "<p>5 rows × 28 columns</p>\n",
       "</div>"
      ],
      "text/plain": [
       "                           key  pickup_longitude  pickup_latitude  \\\n",
       "0  2015-01-27 13:08:24.0000002        -73.973320        40.763805   \n",
       "1  2015-01-27 13:08:24.0000003        -73.986862        40.719383   \n",
       "2  2011-10-08 11:53:44.0000002        -73.982524        40.751260   \n",
       "3  2012-12-01 21:12:12.0000002        -73.981160        40.767807   \n",
       "4  2012-12-01 21:12:12.0000003        -73.966046        40.789775   \n",
       "\n",
       "   dropoff_longitude  dropoff_latitude  passenger_count  hour  weekday  night  \\\n",
       "0         -73.981430         40.743835                1    13        1      0   \n",
       "1         -73.998886         40.739201                1    13        1      0   \n",
       "2         -73.979654         40.746139                1    11        5      0   \n",
       "3         -73.990448         40.751635                1    21        5      0   \n",
       "4         -73.988565         40.744427                1    21        5      0   \n",
       "\n",
       "   late_night               ...                 pickup_datetime_dtWeek  \\\n",
       "0           0               ...                                      5   \n",
       "1           0               ...                                      5   \n",
       "2           0               ...                                     40   \n",
       "3           1               ...                                     48   \n",
       "4           1               ...                                     48   \n",
       "\n",
       "   pickup_datetime_dtDay  pickup_datetime_dtDayofweek  \\\n",
       "0                     27                            1   \n",
       "1                     27                            1   \n",
       "2                      8                            5   \n",
       "3                      1                            5   \n",
       "4                      1                            5   \n",
       "\n",
       "   pickup_datetime_dtDayofyear  pickup_datetime_dtIs_month_end  \\\n",
       "0                           27                           False   \n",
       "1                           27                           False   \n",
       "2                          281                           False   \n",
       "3                          336                           False   \n",
       "4                          336                           False   \n",
       "\n",
       "   pickup_datetime_dtIs_month_start  pickup_datetime_dtIs_quarter_end  \\\n",
       "0                             False                             False   \n",
       "1                             False                             False   \n",
       "2                             False                             False   \n",
       "3                              True                             False   \n",
       "4                              True                             False   \n",
       "\n",
       "   pickup_datetime_dtIs_quarter_start  pickup_datetime_dtIs_year_end  \\\n",
       "0                               False                          False   \n",
       "1                               False                          False   \n",
       "2                               False                          False   \n",
       "3                               False                          False   \n",
       "4                               False                          False   \n",
       "\n",
       "   pickup_datetime_dtIs_year_start  \n",
       "0                            False  \n",
       "1                            False  \n",
       "2                            False  \n",
       "3                            False  \n",
       "4                            False  \n",
       "\n",
       "[5 rows x 28 columns]"
      ]
     },
     "metadata": {},
     "output_type": "display_data"
    }
   ],
   "source": [
    "display(test.head())"
   ]
  },
  {
   "cell_type": "code",
   "execution_count": 25,
   "metadata": {},
   "outputs": [
    {
     "data": {
      "text/plain": [
       "key                                    object\n",
       "fare_amount                           float64\n",
       "pickup_longitude                      float64\n",
       "pickup_latitude                       float64\n",
       "dropoff_longitude                     float64\n",
       "dropoff_latitude                      float64\n",
       "passenger_count                         int64\n",
       "hour                                    int64\n",
       "weekday                                 int64\n",
       "night                                   int64\n",
       "late_night                              int64\n",
       "latdiff                               float64\n",
       "londiff                               float64\n",
       "euclidean                             float64\n",
       "manhattan                             float64\n",
       "ploc                                  float64\n",
       "dloc                                  float64\n",
       "pickup_datetime_dtYear                  int64\n",
       "pickup_datetime_dtMonth                 int64\n",
       "pickup_datetime_dtWeek                  int64\n",
       "pickup_datetime_dtDay                   int64\n",
       "pickup_datetime_dtDayofweek             int64\n",
       "pickup_datetime_dtDayofyear             int64\n",
       "pickup_datetime_dtIs_month_end           bool\n",
       "pickup_datetime_dtIs_month_start         bool\n",
       "pickup_datetime_dtIs_quarter_end         bool\n",
       "pickup_datetime_dtIs_quarter_start       bool\n",
       "pickup_datetime_dtIs_year_end            bool\n",
       "pickup_datetime_dtIs_year_start          bool\n",
       "dtype: object"
      ]
     },
     "execution_count": 25,
     "metadata": {},
     "output_type": "execute_result"
    }
   ],
   "source": [
    "train.dtypes"
   ]
  },
  {
   "cell_type": "code",
   "execution_count": 26,
   "metadata": {},
   "outputs": [],
   "source": [
    "cat_vars = ['hour','weekday','night','late_night','pickup_datetime_dtYear','pickup_datetime_dtMonth','pickup_datetime_dtWeek'\n",
    "            ,'pickup_datetime_dtDay','pickup_datetime_dtDayofweek','pickup_datetime_dtDayofyear','pickup_datetime_dtIs_month_end'\n",
    "            ,'pickup_datetime_dtIs_month_start','pickup_datetime_dtIs_quarter_end','pickup_datetime_dtIs_quarter_start'\n",
    "            ,'pickup_datetime_dtIs_year_end','pickup_datetime_dtIs_year_start']\n",
    "\n",
    "contin_vars = ['pickup_longitude', 'pickup_latitude',\n",
    "       'dropoff_longitude', 'dropoff_latitude','latdiff','londiff','euclidean','manhattan','ploc','dloc'] "
   ]
  },
  {
   "cell_type": "code",
   "execution_count": 27,
   "metadata": {},
   "outputs": [],
   "source": [
    "train = train.set_index(\"key\")\n",
    "test = test.set_index(\"key\")"
   ]
  },
  {
   "cell_type": "code",
   "execution_count": 28,
   "metadata": {},
   "outputs": [],
   "source": [
    "for v in cat_vars: train[v] = train[v].astype('category').cat.as_ordered()"
   ]
  },
  {
   "cell_type": "code",
   "execution_count": 29,
   "metadata": {},
   "outputs": [
    {
     "data": {
      "text/plain": [
       "fare_amount                            float64\n",
       "pickup_longitude                       float64\n",
       "pickup_latitude                        float64\n",
       "dropoff_longitude                      float64\n",
       "dropoff_latitude                       float64\n",
       "passenger_count                          int64\n",
       "hour                                  category\n",
       "weekday                               category\n",
       "night                                 category\n",
       "late_night                            category\n",
       "latdiff                                float64\n",
       "londiff                                float64\n",
       "euclidean                              float64\n",
       "manhattan                              float64\n",
       "ploc                                   float64\n",
       "dloc                                   float64\n",
       "pickup_datetime_dtYear                category\n",
       "pickup_datetime_dtMonth               category\n",
       "pickup_datetime_dtWeek                category\n",
       "pickup_datetime_dtDay                 category\n",
       "pickup_datetime_dtDayofweek           category\n",
       "pickup_datetime_dtDayofyear           category\n",
       "pickup_datetime_dtIs_month_end        category\n",
       "pickup_datetime_dtIs_month_start      category\n",
       "pickup_datetime_dtIs_quarter_end      category\n",
       "pickup_datetime_dtIs_quarter_start    category\n",
       "pickup_datetime_dtIs_year_end         category\n",
       "pickup_datetime_dtIs_year_start       category\n",
       "dtype: object"
      ]
     },
     "execution_count": 29,
     "metadata": {},
     "output_type": "execute_result"
    }
   ],
   "source": [
    "train.dtypes"
   ]
  },
  {
   "cell_type": "code",
   "execution_count": 30,
   "metadata": {},
   "outputs": [],
   "source": [
    "#train.to_feather(f'{PATH}train_processed')"
   ]
  },
  {
   "cell_type": "code",
   "execution_count": 31,
   "metadata": {},
   "outputs": [
    {
     "data": {
      "text/plain": [
       "pickup_longitude                      float64\n",
       "pickup_latitude                       float64\n",
       "dropoff_longitude                     float64\n",
       "dropoff_latitude                      float64\n",
       "passenger_count                         int64\n",
       "hour                                    int64\n",
       "weekday                                 int64\n",
       "night                                   int64\n",
       "late_night                              int64\n",
       "latdiff                               float64\n",
       "londiff                               float64\n",
       "euclidean                             float64\n",
       "manhattan                             float64\n",
       "ploc                                  float64\n",
       "dloc                                  float64\n",
       "pickup_datetime_dtYear                  int64\n",
       "pickup_datetime_dtMonth                 int64\n",
       "pickup_datetime_dtWeek                  int64\n",
       "pickup_datetime_dtDay                   int64\n",
       "pickup_datetime_dtDayofweek             int64\n",
       "pickup_datetime_dtDayofyear             int64\n",
       "pickup_datetime_dtIs_month_end           bool\n",
       "pickup_datetime_dtIs_month_start         bool\n",
       "pickup_datetime_dtIs_quarter_end         bool\n",
       "pickup_datetime_dtIs_quarter_start       bool\n",
       "pickup_datetime_dtIs_year_end            bool\n",
       "pickup_datetime_dtIs_year_start          bool\n",
       "dtype: object"
      ]
     },
     "execution_count": 31,
     "metadata": {},
     "output_type": "execute_result"
    }
   ],
   "source": [
    "test.dtypes"
   ]
  },
  {
   "cell_type": "code",
   "execution_count": 32,
   "metadata": {},
   "outputs": [
    {
     "data": {
      "text/plain": [
       "9914"
      ]
     },
     "execution_count": 32,
     "metadata": {},
     "output_type": "execute_result"
    }
   ],
   "source": [
    "len(test)"
   ]
  },
  {
   "cell_type": "code",
   "execution_count": 33,
   "metadata": {},
   "outputs": [],
   "source": [
    "apply_cats(test, train)"
   ]
  },
  {
   "cell_type": "code",
   "execution_count": 34,
   "metadata": {},
   "outputs": [],
   "source": [
    "train_clean_df, y, nas, mapper = proc_df(train, 'fare_amount', do_scale=True)\n",
    "yl = np.log(y)"
   ]
  },
  {
   "cell_type": "code",
   "execution_count": 35,
   "metadata": {},
   "outputs": [],
   "source": [
    "test_clean_df, _, nas, mapper = proc_df(test, do_scale=True, \n",
    "                                  mapper=mapper, na_dict=nas)"
   ]
  },
  {
   "cell_type": "code",
   "execution_count": 36,
   "metadata": {},
   "outputs": [],
   "source": [
    "# split data in train and validation (80% ~ 10%)\n",
    "#train_df, validation_df = train_test_split(train_clean_df, test_size=0.20, random_state=1)"
   ]
  },
  {
   "cell_type": "code",
   "execution_count": 37,
   "metadata": {},
   "outputs": [
    {
     "data": {
      "text/plain": [
       "53662376"
      ]
     },
     "execution_count": 37,
     "metadata": {},
     "output_type": "execute_result"
    }
   ],
   "source": [
    "n = len(train_clean_df); n"
   ]
  },
  {
   "cell_type": "code",
   "execution_count": 38,
   "metadata": {},
   "outputs": [],
   "source": [
    "samp_size = n"
   ]
  },
  {
   "cell_type": "code",
   "execution_count": 39,
   "metadata": {},
   "outputs": [],
   "source": [
    "train_ratio = 0.75\n",
    "# train_ratio = 0.9\n",
    "train_size = int(samp_size * train_ratio); train_size\n",
    "val_idx = list(range(train_size, len(train_clean_df)))"
   ]
  },
  {
   "cell_type": "code",
   "execution_count": 40,
   "metadata": {},
   "outputs": [],
   "source": [
    "md = ColumnarModelData.from_data_frame(PATH, val_idx, train_clean_df, yl.astype(np.float32), cat_flds=cat_vars, bs=128,test_df=test_clean_df)"
   ]
  },
  {
   "cell_type": "code",
   "execution_count": 41,
   "metadata": {},
   "outputs": [],
   "source": [
    "cat_sz = [(c, len(train[c].cat.categories)+1) for c in cat_vars]"
   ]
  },
  {
   "cell_type": "code",
   "execution_count": 42,
   "metadata": {},
   "outputs": [
    {
     "data": {
      "text/plain": [
       "[('hour', 25),\n",
       " ('weekday', 8),\n",
       " ('night', 3),\n",
       " ('late_night', 3),\n",
       " ('pickup_datetime_dtYear', 8),\n",
       " ('pickup_datetime_dtMonth', 13),\n",
       " ('pickup_datetime_dtWeek', 54),\n",
       " ('pickup_datetime_dtDay', 32),\n",
       " ('pickup_datetime_dtDayofweek', 8),\n",
       " ('pickup_datetime_dtDayofyear', 367),\n",
       " ('pickup_datetime_dtIs_month_end', 3),\n",
       " ('pickup_datetime_dtIs_month_start', 3),\n",
       " ('pickup_datetime_dtIs_quarter_end', 3),\n",
       " ('pickup_datetime_dtIs_quarter_start', 3),\n",
       " ('pickup_datetime_dtIs_year_end', 3),\n",
       " ('pickup_datetime_dtIs_year_start', 3)]"
      ]
     },
     "execution_count": 42,
     "metadata": {},
     "output_type": "execute_result"
    }
   ],
   "source": [
    "cat_sz"
   ]
  },
  {
   "cell_type": "markdown",
   "metadata": {},
   "source": [
    "###### Create categorical embeddings"
   ]
  },
  {
   "cell_type": "code",
   "execution_count": 44,
   "metadata": {},
   "outputs": [],
   "source": [
    "emb_szs = [(c, min(60, (c+1)//2)) for _,c in cat_sz]"
   ]
  },
  {
   "cell_type": "code",
   "execution_count": 45,
   "metadata": {},
   "outputs": [
    {
     "data": {
      "text/plain": [
       "[(25, 13),\n",
       " (8, 4),\n",
       " (3, 2),\n",
       " (3, 2),\n",
       " (8, 4),\n",
       " (13, 7),\n",
       " (54, 27),\n",
       " (32, 16),\n",
       " (8, 4),\n",
       " (367, 60),\n",
       " (3, 2),\n",
       " (3, 2),\n",
       " (3, 2),\n",
       " (3, 2),\n",
       " (3, 2),\n",
       " (3, 2)]"
      ]
     },
     "execution_count": 45,
     "metadata": {},
     "output_type": "execute_result"
    }
   ],
   "source": [
    "emb_szs"
   ]
  },
  {
   "cell_type": "code",
   "execution_count": 46,
   "metadata": {},
   "outputs": [],
   "source": [
    "def inv_y(a): return np.exp(a)\n",
    "\n",
    "def exp_rmspe(y_pred, targ):\n",
    "    targ = inv_y(targ)\n",
    "    pct_var = (targ - inv_y(y_pred))/targ\n",
    "    return math.sqrt((pct_var**2).mean())\n",
    "\n",
    "def mse(y_pred, targ):\n",
    "    targ = inv_y(targ)\n",
    "    y_pred = inv_y(y_pred)\n",
    "    return math.sqrt(((y_pred-targ)**2).mean())\n",
    "\n",
    "max_log_y = np.max(yl)\n",
    "y_range = (0, max_log_y*1.2)"
   ]
  },
  {
   "cell_type": "code",
   "execution_count": 65,
   "metadata": {},
   "outputs": [],
   "source": [
    "m = md.get_learner(emb_szs, len(train_clean_df.columns)-len(cat_vars),\n",
    "                  0.03, 1, [2000,1500,1000], [0.001,0.001,0.01], y_range=y_range)\n",
    "\n",
    "#m = md.get_learner(emb_szs, len(train_clean_df.columns)-len(cat_vars),\n",
    "#                   0.04, 1, [2000,2000,2000,2000,1000], [0.0001,0.001,0.001,0.001,0.001], y_range=y_range)\n",
    "\n",
    "#m.summary()\n",
    "\n",
    "#m = md.get_learner(emb_szs, len(train_clean_df.columns)-len(cat_vars),\n",
    " #                 0.04, 1, [1000,500], [0.001,0.005], y_range=y_range)"
   ]
  },
  {
   "cell_type": "code",
   "execution_count": 66,
   "metadata": {},
   "outputs": [
    {
     "data": {
      "application/vnd.jupyter.widget-view+json": {
       "model_id": "cb2b4c45f4444506b1fbc4045ca7c772",
       "version_major": 2,
       "version_minor": 0
      },
      "text/plain": [
       "HBox(children=(IntProgress(value=0, description='Epoch', max=1), HTML(value='')))"
      ]
     },
     "metadata": {},
     "output_type": "display_data"
    },
    {
     "name": "stdout",
     "output_type": "stream",
     "text": [
      " 56%|█████▌    | 175616/314428 [38:46<30:38, 75.49it/s, loss=0.137]  "
     ]
    }
   ],
   "source": [
    "m.lr_find()"
   ]
  },
  {
   "cell_type": "code",
   "execution_count": 68,
   "metadata": {},
   "outputs": [
    {
     "data": {
      "image/png": "[encoded data removed]",
      "text/plain": [
       "<Figure size 432x288 with 1 Axes>"
      ]
     },
     "metadata": {},
     "output_type": "display_data"
    }
   ],
   "source": [
    "m.sched.plot(100)"
   ]
  },
  {
   "cell_type": "code",
   "execution_count": 50,
   "metadata": {},
   "outputs": [],
   "source": [
    "lr = (1e-4 + 1e-5)/10*2\n",
    "#lr = (1e-2 + 1e-3)/2"
   ]
  },
  {
   "cell_type": "code",
   "execution_count": null,
   "metadata": {},
   "outputs": [],
   "source": [
    "m.fit(lr, 1, metrics=[exp_rmspe,mse])"
   ]
  },
  {
   "cell_type": "code",
   "execution_count": 52,
   "metadata": {},
   "outputs": [
    {
     "data": {
      "application/vnd.jupyter.widget-view+json": {
       "model_id": "9fc0cd45ebf440e9bd51a898380321d6",
       "version_major": 2,
       "version_minor": 0
      },
      "text/plain": [
       "HBox(children=(IntProgress(value=0, description='Epoch', max=3), HTML(value='')))"
      ]
     },
     "metadata": {},
     "output_type": "display_data"
    },
    {
     "name": "stdout",
     "output_type": "stream",
     "text": [
      "epoch      trn_loss   val_loss   exp_rmspe  mse                     \n",
      "    0      0.0465     0.047091   0.498072   3.248598  \n",
      "    1      0.04442    0.045913   0.508785   3.129166                \n",
      "    2      0.042198   0.04572    0.484184   3.139311                \n"
     ]
    },
    {
     "data": {
      "text/plain": [
       "[array([0.04572]), 0.48418407089880733, 3.1393110068751535]"
      ]
     },
     "execution_count": 52,
     "metadata": {},
     "output_type": "execute_result"
    }
   ],
   "source": [
    "m.fit(lr, 3, metrics=[exp_rmspe,mse])"
   ]
  },
  {
   "cell_type": "code",
   "execution_count": 53,
   "metadata": {},
   "outputs": [
    {
     "data": {
      "application/vnd.jupyter.widget-view+json": {
       "model_id": "516d542427d04d16a43756e513c31c25",
       "version_major": 2,
       "version_minor": 0
      },
      "text/plain": [
       "HBox(children=(IntProgress(value=0, description='Epoch', max=3), HTML(value='')))"
      ]
     },
     "metadata": {},
     "output_type": "display_data"
    },
    {
     "name": "stdout",
     "output_type": "stream",
     "text": [
      "epoch      trn_loss   val_loss   exp_rmspe  mse                     \n",
      "    0      0.044628   0.044828   0.502885   3.075001  \n",
      "    1      0.047165   0.045007   0.525307   3.093218                \n",
      "    2      0.046639   0.044543   0.507563   3.061406                \n"
     ]
    },
    {
     "data": {
      "text/plain": [
       "[array([0.04454]), 0.5075630787209192, 3.0614062441438055]"
      ]
     },
     "execution_count": 53,
     "metadata": {},
     "output_type": "execute_result"
    }
   ],
   "source": [
    "m.fit(lr, 2, metrics=[exp_rmspe,mse], cycle_len=1, cycle_mult=2)"
   ]
  },
  {
   "cell_type": "code",
   "execution_count": 54,
   "metadata": {},
   "outputs": [
    {
     "data": {
      "application/vnd.jupyter.widget-view+json": {
       "model_id": "7ccf42a43a6a4868b59360dd92bdd3ad",
       "version_major": 2,
       "version_minor": 0
      },
      "text/plain": [
       "HBox(children=(IntProgress(value=0, description='Epoch', max=8), HTML(value='')))"
      ]
     },
     "metadata": {},
     "output_type": "display_data"
    },
    {
     "name": "stdout",
     "output_type": "stream",
     "text": [
      "epoch      trn_loss   val_loss   exp_rmspe  mse                     \n",
      "    0      0.04369    0.044608   0.525943   3.072875  \n",
      "    1      0.046419   0.044369   0.508905   3.057162                \n",
      "    2      0.042602   0.044873   0.493378   3.115703                \n",
      "    3      0.04245    0.044576   0.535748   3.070819                \n",
      "    4      0.042642   0.044327   0.503734   3.061998                \n",
      "    5      0.045447   0.044105   0.50002    3.057297                \n",
      "    6      0.045845   0.043979   0.502742   3.050201                \n",
      "    7      0.043472   0.043947   0.509785   3.03805                 \n"
     ]
    },
    {
     "data": {
      "text/plain": [
       "[array([0.04395]), 0.5097847675410806, 3.0380501450656396]"
      ]
     },
     "execution_count": 54,
     "metadata": {},
     "output_type": "execute_result"
    }
   ],
   "source": [
    "m.fit(lr, 2, metrics=[exp_rmspe,mse], cycle_len=2, cycle_mult=3)"
   ]
  },
  {
   "cell_type": "code",
   "execution_count": 55,
   "metadata": {},
   "outputs": [],
   "source": [
    "#m.fit(lr, 2, metrics=[exp_rmspe,mse], cycle_len=1, cycle_mult=2)"
   ]
  },
  {
   "cell_type": "code",
   "execution_count": 56,
   "metadata": {},
   "outputs": [],
   "source": [
    "def output_submission(raw_test, prediction, id_column, prediction_column, file_name):\n",
    "    df = pd.DataFrame(prediction, columns=[prediction_column])\n",
    "    df[id_column] = raw_test[id_column]\n",
    "    df[[id_column, prediction_column]].to_csv((file_name), index=False)\n",
    "    print('Output complete')"
   ]
  },
  {
   "cell_type": "code",
   "execution_count": 57,
   "metadata": {},
   "outputs": [],
   "source": [
    "m.save('val18')"
   ]
  },
  {
   "cell_type": "code",
   "execution_count": 58,
   "metadata": {},
   "outputs": [],
   "source": [
    "m.load('val18')"
   ]
  },
  {
   "cell_type": "code",
   "execution_count": 59,
   "metadata": {},
   "outputs": [],
   "source": [
    "x,y=m.predict_with_targs()"
   ]
  },
  {
   "cell_type": "code",
   "execution_count": 60,
   "metadata": {},
   "outputs": [
    {
     "data": {
      "text/plain": [
       "9.251943847960833"
      ]
     },
     "execution_count": 60,
     "metadata": {},
     "output_type": "execute_result"
    }
   ],
   "source": [
    "exp_rmspe(x,y)"
   ]
  },
  {
   "cell_type": "code",
   "execution_count": 61,
   "metadata": {},
   "outputs": [],
   "source": [
    "pred_test=m.predict(True)"
   ]
  },
  {
   "cell_type": "code",
   "execution_count": 62,
   "metadata": {},
   "outputs": [],
   "source": [
    "pred_test = np.exp(pred_test)"
   ]
  },
  {
   "cell_type": "code",
   "execution_count": 63,
   "metadata": {},
   "outputs": [
    {
     "name": "stdout",
     "output_type": "stream",
     "text": [
      "Output complete\n"
     ]
    }
   ],
   "source": [
    "output_submission(df_test, pred_test, 'key', 'fare_amount', SUBMISSION_NAME)"
   ]
  }
 ],
 "metadata": {
  "kernelspec": {
   "display_name": "Python 3",
   "language": "python",
   "name": "python3"
  },
  "language_info": {
   "codemirror_mode": {
    "name": "ipython",
    "version": 3
   },
   "file_extension": ".py",
   "mimetype": "text/x-python",
   "name": "python",
   "nbconvert_exporter": "python",
   "pygments_lexer": "ipython3",
   "version": "3.6.6"
  }
 },
 "nbformat": 4,
 "nbformat_minor": 2
}
